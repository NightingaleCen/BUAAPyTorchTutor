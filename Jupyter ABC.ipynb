{
 "cells": [
  {
   "cell_type": "markdown",
   "metadata": {},
   "source": [
    "# Jupyter ABC\n",
    "恭喜你打开了（可能是）你的第一个Jupyter Notebook，如你所见，一个notebook由多个Markdown编写的文档单元格与Python编写的代码单元格组成。"
   ]
  },
  {
   "cell_type": "markdown",
   "metadata": {},
   "source": [
    "这是一个Markdown单元格，你可以在里面编写供他人浏览的文本信息，而以下是一个代码单元格，你可以点击上方的运行来执行它，它的输出会直接展示在单元格的下侧。"
   ]
  },
  {
   "cell_type": "code",
   "execution_count": null,
   "metadata": {},
   "outputs": [],
   "source": [
    "print(\"Hello, world!\")"
   ]
  },
  {
   "cell_type": "markdown",
   "metadata": {},
   "source": [
    "在一个notebook处于运行状态时，其中的变量会被保存在内核中，只要内核不关闭，即使单元格运行完毕也不会丢失。连续运行下面两个单元格可以让你体会到这一点。"
   ]
  },
  {
   "cell_type": "code",
   "execution_count": null,
   "metadata": {},
   "outputs": [],
   "source": [
    "a = 1"
   ]
  },
  {
   "cell_type": "code",
   "execution_count": null,
   "metadata": {},
   "outputs": [],
   "source": [
    "print(a)"
   ]
  },
  {
   "cell_type": "markdown",
   "metadata": {},
   "source": [
    "notebook中的代码块可以被理解为在连续的代码中切分出了多个断点，但需要注意的是，内核中的变量与单元格的排列顺序没有关系，只和单元格的执行顺序有关。你可以多次重复执行下面的一个单元格，观察a的值是如何变化的。"
   ]
  },
  {
   "cell_type": "code",
   "execution_count": null,
   "metadata": {},
   "outputs": [],
   "source": [
    "a += 1\n",
    "print(a)"
   ]
  },
  {
   "cell_type": "markdown",
   "metadata": {},
   "source": [
    "切分成块的代码有助于你的调试，现在你已经掌握了Jupyter Notebook最基本的用法，回到配环境的过程中去吧。"
   ]
  }
 ],
 "metadata": {
  "kernelspec": {
   "display_name": "Python 3 (ipykernel)",
   "language": "python",
   "name": "python3"
  },
  "language_info": {
   "codemirror_mode": {
    "name": "ipython",
    "version": 3
   },
   "file_extension": ".py",
   "mimetype": "text/x-python",
   "name": "python",
   "nbconvert_exporter": "python",
   "pygments_lexer": "ipython3",
   "version": "3.11.3"
  }
 },
 "nbformat": 4,
 "nbformat_minor": 2
}
