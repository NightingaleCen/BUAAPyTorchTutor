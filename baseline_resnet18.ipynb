{
 "cells": [
  {
   "cell_type": "markdown",
   "metadata": {},
   "source": [
    "# Baseline ResNet18\n",
    "你可以参考这个使用预训练模型resnet18的baseline训练流程来调整你的代码，但是作为实验的一部分，我们还是建议你搭建一个自己的模型。"
   ]
  },
  {
   "cell_type": "markdown",
   "metadata": {},
   "source": [
    "在我们读入数据集中的图片时，我们需要对图片进行预处理，使其能够从图像转变为能够被模型读取的数据格式，同时对于训练数据，我们可能想对它们进行[数据增广](https://pytorch.org/vision/stable/transforms.html)来提升训练效果，这些操作都可以通过`torchvision.transforms`来实现。在下面，我们定义了一个针对了训练的`train_transform`，其中包含了数据转换与一些数据增广相关的变换，我们还定义了针对验证和测试的`test_transform`，其中只包含了数据转换的步骤，因为我们不需要在测试时进行数据增广。"
   ]
  },
  {
   "cell_type": "code",
   "execution_count": 1,
   "metadata": {},
   "outputs": [],
   "source": [
    "from torchvision import transforms\n",
    "import torch\n",
    "\n",
    "train_transform = transforms.Compose(\n",
    "    (\n",
    "        transforms.PILToTensor(),\n",
    "        transforms.ConvertImageDtype(torch.float),\n",
    "        transforms.Normalize(mean=(0.485, 0.456, 0.406), std=(0.229, 0.224, 0.225)),\n",
    "        transforms.RandomErasing(p=0.1),\n",
    "        transforms.RandomResizedCrop(\n",
    "            224, interpolation=transforms.InterpolationMode.BILINEAR\n",
    "        ),\n",
    "        transforms.RandomHorizontalFlip(),\n",
    "        transforms.autoaugment.TrivialAugmentWide(\n",
    "            interpolation=transforms.InterpolationMode.BILINEAR\n",
    "        ),\n",
    "    )\n",
    ")\n",
    "\n",
    "test_transform = transforms.Compose(\n",
    "    (\n",
    "        transforms.ToTensor(),\n",
    "        transforms.Resize(256, interpolation=transforms.InterpolationMode.BILINEAR),\n",
    "        transforms.CenterCrop(224),\n",
    "        transforms.Normalize([0.485, 0.456, 0.406], [0.229, 0.224, 0.225]),\n",
    "    )\n",
    ")"
   ]
  },
  {
   "cell_type": "markdown",
   "metadata": {},
   "source": [
    "接下来我们需要定义数据集来读取数据，对于训练集和验证集，因为它们的文件结构为主文件夹中包含了对应多个类别的子文件夹。\n",
    "所以我们可以直接使用`torchvision.datasets.ImageFolder`来建立带标签的数据集。但是对于测试集，我们需要通过继承`VisionDataset`类的方法来构建自己的数据集类。在这里，我们建立了`PlantDataset`，它能够读取指定文件夹下的所有图片，并且在被调用时返回经过转换后的数据值以及作为标签的文件名。\n",
    "记得把你在上面定义的变换作为参数传给对应的数据集。"
   ]
  },
  {
   "cell_type": "code",
   "execution_count": 2,
   "metadata": {},
   "outputs": [],
   "source": [
    "from torchvision.datasets import VisionDataset\n",
    "from typing import Any, Callable, List, Optional, Tuple\n",
    "from PIL import Image\n",
    "from pathlib import Path\n",
    "import re\n",
    "\n",
    "\n",
    "class PlantDataset(VisionDataset):\n",
    "    def __init__(\n",
    "        self,\n",
    "        root: str,\n",
    "        transforms: Optional[Callable] = None,\n",
    "        transform: Optional[Callable] = None,\n",
    "        target_transform: Optional[Callable] = None,\n",
    "    ) -> None:\n",
    "        super().__init__(root, transforms, transform, target_transform)\n",
    "        data_path = Path(self.root)\n",
    "        image_list = list(data_path.glob(\"*.jpg\"))\n",
    "        self.images = [str(i) for i in image_list]\n",
    "\n",
    "    def __getitem__(self, index: int) -> Any:\n",
    "        image_path = self.images[index]\n",
    "        image = Image.open(image_path).convert(\"RGB\")\n",
    "        image = self.transforms(image)\n",
    "\n",
    "        label = re.sub(r\"\\D\", \"\", image_path.split(\"/\")[-1])  # 这里会把文件后缀给去掉，将文件名保留作为标签返回\n",
    "        return image, int(label)\n",
    "\n",
    "    def __len__(self) -> int:\n",
    "        return len(self.images)"
   ]
  },
  {
   "cell_type": "code",
   "execution_count": 3,
   "metadata": {},
   "outputs": [],
   "source": [
    "import os\n",
    "\n",
    "from torchvision.datasets import ImageFolder\n",
    "from torch.utils.data import DataLoader\n",
    "\n",
    "data_path = './10 plants dataset'\n",
    "batch_size = 32 # @param\n",
    "num_workers = 0 # @param 如果你使用的是CPU，建议不要改动\n",
    "torch.manual_seed(42) # @param 为你的pytorch指定一个随机数种子，使得每一次的结果可以被复现\n",
    "\n",
    "train_path = (os.path.join(data_path, 'train'))\n",
    "test_path = (os.path.join(data_path, 'test'))\n",
    "val_path = (os.path.join(data_path, 'val'))\n",
    "\n",
    "train_dataset = ImageFolder(\n",
    "    train_path,\n",
    "    train_transform)\n",
    "val_dataset = ImageFolder(\n",
    "    val_path,\n",
    "    test_transform)\n",
    "test_dataset = PlantDataset(\n",
    "    test_path,\n",
    "    test_transform)\n"
   ]
  },
  {
   "cell_type": "markdown",
   "metadata": {},
   "source": [
    "在训练和测试时，PyTorch通过`DataLoader`类来从定义好的dataset中读取每一个batch的数据，在下面我们建立了三个`DataLoader`对象，并指定训练和验证时的batch size为超参数`batch_size`的值。此处我们还指定测试时的batch size为1，你也可以取一个其他值。"
   ]
  },
  {
   "cell_type": "code",
   "execution_count": 4,
   "metadata": {},
   "outputs": [
    {
     "name": "stdout",
     "output_type": "stream",
     "text": [
      "Using cpu device\n"
     ]
    }
   ],
   "source": [
    "import torch\n",
    "from torch import nn\n",
    "from torch.nn import functional as F\n",
    "\n",
    "device = \"cuda\" if torch.cuda.is_available() else \"cpu\"\n",
    "print(f\"Using {device} device\")\n",
    "\n",
    "train_loader = DataLoader(\n",
    "    train_dataset,\n",
    "    batch_size=batch_size,\n",
    "    num_workers=num_workers,\n",
    "    shuffle=True)\n",
    "val_loader = DataLoader(\n",
    "    val_dataset,\n",
    "    batch_size=len(val_dataset),\n",
    "    num_workers=num_workers,\n",
    "    shuffle=True)\n",
    "test_loader = DataLoader(\n",
    "    test_dataset,\n",
    "    batch_size=1,\n",
    "    num_workers=num_workers)"
   ]
  },
  {
   "cell_type": "markdown",
   "metadata": {},
   "source": [
    "比起从头训练一个模型，在一个下游任务上**微调（Fine-tuning）**一个已经在大数据集上进行过预训练的模型是一种更主流的方法。我们选择微调CV领域的经典网络resnet18来作为本实验的baseline，你可以很方便地直接从代码中下载并使用常用预训练模型的架构与权重。由于resnet18最后的全连接层输出的分类数目为1000，我们将其替换为一个输出分类数为10的线性层，然后对整个网络在我们的数据集上进行微调来使得它对于给定的十种植物有一个很好的分类结果。在微调的时候你也可以试着冻结部分或全部的卷积层。\n",
    ">简单来说，微调就是在一个新的数据集上将一个已经在其他的大数据集上训练好了的模型再训练一遍，这有助于模型复用已学到的知识，通过更低的成本取得更好的效果。"
   ]
  },
  {
   "cell_type": "code",
   "execution_count": 5,
   "metadata": {},
   "outputs": [
    {
     "name": "stdout",
     "output_type": "stream",
     "text": [
      "ResNet(\n",
      "  (conv1): Conv2d(3, 64, kernel_size=(7, 7), stride=(2, 2), padding=(3, 3), bias=False)\n",
      "  (bn1): BatchNorm2d(64, eps=1e-05, momentum=0.1, affine=True, track_running_stats=True)\n",
      "  (relu): ReLU(inplace=True)\n",
      "  (maxpool): MaxPool2d(kernel_size=3, stride=2, padding=1, dilation=1, ceil_mode=False)\n",
      "  (layer1): Sequential(\n",
      "    (0): BasicBlock(\n",
      "      (conv1): Conv2d(64, 64, kernel_size=(3, 3), stride=(1, 1), padding=(1, 1), bias=False)\n",
      "      (bn1): BatchNorm2d(64, eps=1e-05, momentum=0.1, affine=True, track_running_stats=True)\n",
      "      (relu): ReLU(inplace=True)\n",
      "      (conv2): Conv2d(64, 64, kernel_size=(3, 3), stride=(1, 1), padding=(1, 1), bias=False)\n",
      "      (bn2): BatchNorm2d(64, eps=1e-05, momentum=0.1, affine=True, track_running_stats=True)\n",
      "    )\n",
      "    (1): BasicBlock(\n",
      "      (conv1): Conv2d(64, 64, kernel_size=(3, 3), stride=(1, 1), padding=(1, 1), bias=False)\n",
      "      (bn1): BatchNorm2d(64, eps=1e-05, momentum=0.1, affine=True, track_running_stats=True)\n",
      "      (relu): ReLU(inplace=True)\n",
      "      (conv2): Conv2d(64, 64, kernel_size=(3, 3), stride=(1, 1), padding=(1, 1), bias=False)\n",
      "      (bn2): BatchNorm2d(64, eps=1e-05, momentum=0.1, affine=True, track_running_stats=True)\n",
      "    )\n",
      "  )\n",
      "  (layer2): Sequential(\n",
      "    (0): BasicBlock(\n",
      "      (conv1): Conv2d(64, 128, kernel_size=(3, 3), stride=(2, 2), padding=(1, 1), bias=False)\n",
      "      (bn1): BatchNorm2d(128, eps=1e-05, momentum=0.1, affine=True, track_running_stats=True)\n",
      "      (relu): ReLU(inplace=True)\n",
      "      (conv2): Conv2d(128, 128, kernel_size=(3, 3), stride=(1, 1), padding=(1, 1), bias=False)\n",
      "      (bn2): BatchNorm2d(128, eps=1e-05, momentum=0.1, affine=True, track_running_stats=True)\n",
      "      (downsample): Sequential(\n",
      "        (0): Conv2d(64, 128, kernel_size=(1, 1), stride=(2, 2), bias=False)\n",
      "        (1): BatchNorm2d(128, eps=1e-05, momentum=0.1, affine=True, track_running_stats=True)\n",
      "      )\n",
      "    )\n",
      "    (1): BasicBlock(\n",
      "      (conv1): Conv2d(128, 128, kernel_size=(3, 3), stride=(1, 1), padding=(1, 1), bias=False)\n",
      "      (bn1): BatchNorm2d(128, eps=1e-05, momentum=0.1, affine=True, track_running_stats=True)\n",
      "      (relu): ReLU(inplace=True)\n",
      "      (conv2): Conv2d(128, 128, kernel_size=(3, 3), stride=(1, 1), padding=(1, 1), bias=False)\n",
      "      (bn2): BatchNorm2d(128, eps=1e-05, momentum=0.1, affine=True, track_running_stats=True)\n",
      "    )\n",
      "  )\n",
      "  (layer3): Sequential(\n",
      "    (0): BasicBlock(\n",
      "      (conv1): Conv2d(128, 256, kernel_size=(3, 3), stride=(2, 2), padding=(1, 1), bias=False)\n",
      "      (bn1): BatchNorm2d(256, eps=1e-05, momentum=0.1, affine=True, track_running_stats=True)\n",
      "      (relu): ReLU(inplace=True)\n",
      "      (conv2): Conv2d(256, 256, kernel_size=(3, 3), stride=(1, 1), padding=(1, 1), bias=False)\n",
      "      (bn2): BatchNorm2d(256, eps=1e-05, momentum=0.1, affine=True, track_running_stats=True)\n",
      "      (downsample): Sequential(\n",
      "        (0): Conv2d(128, 256, kernel_size=(1, 1), stride=(2, 2), bias=False)\n",
      "        (1): BatchNorm2d(256, eps=1e-05, momentum=0.1, affine=True, track_running_stats=True)\n",
      "      )\n",
      "    )\n",
      "    (1): BasicBlock(\n",
      "      (conv1): Conv2d(256, 256, kernel_size=(3, 3), stride=(1, 1), padding=(1, 1), bias=False)\n",
      "      (bn1): BatchNorm2d(256, eps=1e-05, momentum=0.1, affine=True, track_running_stats=True)\n",
      "      (relu): ReLU(inplace=True)\n",
      "      (conv2): Conv2d(256, 256, kernel_size=(3, 3), stride=(1, 1), padding=(1, 1), bias=False)\n",
      "      (bn2): BatchNorm2d(256, eps=1e-05, momentum=0.1, affine=True, track_running_stats=True)\n",
      "    )\n",
      "  )\n",
      "  (layer4): Sequential(\n",
      "    (0): BasicBlock(\n",
      "      (conv1): Conv2d(256, 512, kernel_size=(3, 3), stride=(2, 2), padding=(1, 1), bias=False)\n",
      "      (bn1): BatchNorm2d(512, eps=1e-05, momentum=0.1, affine=True, track_running_stats=True)\n",
      "      (relu): ReLU(inplace=True)\n",
      "      (conv2): Conv2d(512, 512, kernel_size=(3, 3), stride=(1, 1), padding=(1, 1), bias=False)\n",
      "      (bn2): BatchNorm2d(512, eps=1e-05, momentum=0.1, affine=True, track_running_stats=True)\n",
      "      (downsample): Sequential(\n",
      "        (0): Conv2d(256, 512, kernel_size=(1, 1), stride=(2, 2), bias=False)\n",
      "        (1): BatchNorm2d(512, eps=1e-05, momentum=0.1, affine=True, track_running_stats=True)\n",
      "      )\n",
      "    )\n",
      "    (1): BasicBlock(\n",
      "      (conv1): Conv2d(512, 512, kernel_size=(3, 3), stride=(1, 1), padding=(1, 1), bias=False)\n",
      "      (bn1): BatchNorm2d(512, eps=1e-05, momentum=0.1, affine=True, track_running_stats=True)\n",
      "      (relu): ReLU(inplace=True)\n",
      "      (conv2): Conv2d(512, 512, kernel_size=(3, 3), stride=(1, 1), padding=(1, 1), bias=False)\n",
      "      (bn2): BatchNorm2d(512, eps=1e-05, momentum=0.1, affine=True, track_running_stats=True)\n",
      "    )\n",
      "  )\n",
      "  (avgpool): AdaptiveAvgPool2d(output_size=(1, 1))\n",
      "  (fc): Linear(in_features=512, out_features=10, bias=True)\n",
      ")\n"
     ]
    }
   ],
   "source": [
    "from torchvision import models\n",
    "\n",
    "model = models.resnet18(weights=\"DEFAULT\").to(device) # 指定weights=\"DEFAULT\"即可使用预训练的权重\n",
    "fc_in_features = model.fc.in_features\n",
    "model.fc = nn.Linear(fc_in_features, 10)\n",
    "print(model)"
   ]
  },
  {
   "cell_type": "markdown",
   "metadata": {},
   "source": [
    "在下面，我们指定了模型训练的各超参数，我们使用带动量的SGD作为优化器，同时包括了2个epoch的warmup与余弦退火的学习率调整策略。由于PyTorch没有提供warmup相关的API，我们需要手动指定学习率的变化方式来实现warmup+余弦退火的组合，相关的代码见`warmup_cosine_annealing_LR`.\n",
    "我们还定义了一些用于评估模型训练效果的指标，如topk准确率，它们有助于我们在训练过程中跟踪模型的性能。"
   ]
  },
  {
   "cell_type": "code",
   "execution_count": 6,
   "metadata": {},
   "outputs": [],
   "source": [
    "import numpy as np\n",
    "\n",
    "\n",
    "def warmup_cosine_annealing_LR(total_epoches, warmup_epoches, iters_per_epoch):\n",
    "    cosine_annealing_epoches = total_epoches - warmup_epoches\n",
    "    warmup_iters = warmup_epoches * iters_per_epoch\n",
    "    cosine_annealing_iters = cosine_annealing_epoches * iters_per_epoch\n",
    "    return (\n",
    "        lambda cur_iter: cur_iter / warmup_iters\n",
    "        if cur_iter < warmup_iters\n",
    "        else 0.5\n",
    "        * (1 + np.cos(np.pi * (cur_iter - warmup_iters) / cosine_annealing_iters))\n",
    "    )\n",
    "\n",
    "\n",
    "learning_rate = 1e-3  # @param\n",
    "epochs = 20  # @param\n",
    "warmup_epoches = 2  # @param\n",
    "\n",
    "iters_per_epoch = np.ceil(len(train_dataset) / batch_size)\n",
    "loss_fn = nn.CrossEntropyLoss()\n",
    "\n",
    "optimizer = torch.optim.SGD(\n",
    "    model.parameters(), lr=learning_rate, weight_decay=1e-4, momentum=0.9\n",
    ")\n",
    "\n",
    "scheduler = torch.optim.lr_scheduler.LambdaLR(\n",
    "    optimizer=optimizer,\n",
    "    lr_lambda=warmup_cosine_annealing_LR(epochs, warmup_epoches, iters_per_epoch),\n",
    ")"
   ]
  },
  {
   "cell_type": "code",
   "execution_count": 7,
   "metadata": {},
   "outputs": [],
   "source": [
    "class AverageMeter(object):\n",
    "  \"\"\"Computes and stores the average and current value\"\"\"\n",
    "  def __init__(self, name, fmt=':f'):\n",
    "      self.name = name\n",
    "      self.fmt = fmt\n",
    "      self.reset()\n",
    "\n",
    "  def reset(self):\n",
    "      self.val = 0\n",
    "      self.avg = 0\n",
    "      self.sum = 0\n",
    "      self.count = 0\n",
    "\n",
    "  def update(self, val, n=1):\n",
    "      self.val = val\n",
    "      self.sum += val * n\n",
    "      self.count += n\n",
    "      self.avg = self.sum / self.count\n",
    "\n",
    "  def __str__(self):\n",
    "      fmtstr = '{name} {avg' + self.fmt + '}'\n",
    "      return fmtstr.format(**self.__dict__)\n",
    "\n",
    "def accuracy(output, target, topk=(1,)):\n",
    "  \"\"\"Computes the accuracy over the k top predictions for the specified values of k\"\"\"\n",
    "  with torch.no_grad():\n",
    "    maxk = max(topk)\n",
    "    batch_size = target.size(0)\n",
    "\n",
    "    _, pred = output.topk(maxk, 1, True, True)\n",
    "    pred = pred.t()\n",
    "    correct = pred.eq(target.view(1, -1).expand_as(pred))\n",
    "\n",
    "    res = []\n",
    "    for k in topk:\n",
    "        correct_k = correct[:k].reshape(-1).float().sum(0, keepdim=True)\n",
    "        res.append(correct_k.mul_(100.0 / batch_size))\n",
    "    return res\n",
    "\n",
    "batch_time = AverageMeter('Time', ':6.3f')\n",
    "data_time = AverageMeter('Data', ':6.3f')\n",
    "losses = AverageMeter('Training loss', ':.4e')\n",
    "top1 = AverageMeter('Acc@1', ':6.2f')\n",
    "top5 = AverageMeter('Acc@5', ':6.2f')"
   ]
  },
  {
   "cell_type": "markdown",
   "metadata": {},
   "source": [
    "以下是模型实际的训练代码，注意在每一次iteration中，loss在何时计算，梯度在何时反向传播（别忘记清空优化器中已有的梯度），权重和学习率在何时进行调整。每经过一个完整的epoch，模型会在验证集上进行一次评估，记录其损失和准确率。"
   ]
  },
  {
   "cell_type": "code",
   "execution_count": 8,
   "metadata": {},
   "outputs": [
    {
     "name": "stderr",
     "output_type": "stream",
     "text": [
      "/Users/nightingalecen/miniconda3/envs/tutor/lib/python3.11/site-packages/torchvision/transforms/functional.py:1603: UserWarning: The default value of the antialias parameter of all the resizing transforms (Resize(), RandomResizedCrop(), etc.) will change from None to True in v0.17, in order to be consistent across the PIL and Tensor backends. To suppress this warning, directly pass antialias=True (recommended, future default), antialias=None (current default, which means False for Tensors and True for PIL), or antialias=False (only works on Tensors - PIL will still use antialiasing). This also applies if you are using the inference transforms from the models weights: update the call to weights.transforms(antialias=True).\n",
      "  warnings.warn(\n"
     ]
    },
    {
     "name": "stdout",
     "output_type": "stream",
     "text": [
      "Epoch:1: Time 44.128, Training loss 2.3430e+00, Validation loss 2.1803e+00, Acc@1  20.00, Acc@5  72.00, learning rate 0.0005\n",
      "Epoch:2: Time 45.302, Training loss 1.8271e+00, Validation loss 1.6473e+00, Acc@1  53.33, Acc@5  86.67, learning rate 0.001\n",
      "Epoch:3: Time 45.761, Training loss 1.5509e+00, Validation loss 1.2061e+00, Acc@1  68.00, Acc@5  96.00, learning rate 0.000992403876506104\n",
      "Epoch:4: Time 45.859, Training loss 1.2132e+00, Validation loss 9.6627e-01, Acc@1  76.00, Acc@5  97.33, learning rate 0.0009698463103929542\n",
      "Epoch:5: Time 46.169, Training loss 1.1604e+00, Validation loss 8.1957e-01, Acc@1  81.33, Acc@5  97.33, learning rate 0.0009330127018922195\n",
      "Epoch:6: Time 46.159, Training loss 9.4707e-01, Validation loss 7.0231e-01, Acc@1  82.67, Acc@5  97.33, learning rate 0.000883022221559489\n",
      "Epoch:7: Time 46.535, Training loss 1.0670e+00, Validation loss 6.2838e-01, Acc@1  85.33, Acc@5  98.67, learning rate 0.0008213938048432696\n",
      "Epoch:8: Time 46.680, Training loss 5.2951e-01, Validation loss 5.7005e-01, Acc@1  88.00, Acc@5  98.67, learning rate 0.00075\n",
      "Epoch:9: Time 46.908, Training loss 6.4006e-01, Validation loss 5.2126e-01, Acc@1  89.33, Acc@5  98.67, learning rate 0.0006710100716628344\n",
      "Epoch:10: Time 46.906, Training loss 7.6763e-01, Validation loss 4.9057e-01, Acc@1  90.67, Acc@5 100.00, learning rate 0.0005868240888334653\n",
      "Epoch:11: Time 47.073, Training loss 8.2022e-01, Validation loss 4.7765e-01, Acc@1  92.00, Acc@5  98.67, learning rate 0.0005\n",
      "Epoch:12: Time 47.182, Training loss 5.5960e-01, Validation loss 4.6885e-01, Acc@1  89.33, Acc@5 100.00, learning rate 0.00041317591116653486\n",
      "Epoch:13: Time 47.207, Training loss 5.9033e-01, Validation loss 4.5462e-01, Acc@1  90.67, Acc@5 100.00, learning rate 0.0003289899283371657\n",
      "Epoch:14: Time 47.319, Training loss 5.7619e-01, Validation loss 4.4579e-01, Acc@1  90.67, Acc@5 100.00, learning rate 0.0002500000000000001\n",
      "Epoch:15: Time 47.322, Training loss 3.6410e-01, Validation loss 4.3555e-01, Acc@1  90.67, Acc@5 100.00, learning rate 0.0001786061951567303\n",
      "Epoch:16: Time 47.336, Training loss 4.3827e-01, Validation loss 4.2920e-01, Acc@1  90.67, Acc@5 100.00, learning rate 0.00011697777844051105\n",
      "Epoch:17: Time 47.277, Training loss 7.1674e-01, Validation loss 4.2926e-01, Acc@1  90.67, Acc@5 100.00, learning rate 6.698729810778065e-05\n",
      "Epoch:18: Time 47.269, Training loss 6.2819e-01, Validation loss 4.2906e-01, Acc@1  90.67, Acc@5 100.00, learning rate 3.0153689607045842e-05\n",
      "Epoch:19: Time 47.244, Training loss 7.7894e-01, Validation loss 4.2856e-01, Acc@1  90.67, Acc@5 100.00, learning rate 7.59612349389599e-06\n",
      "Epoch:20: Time 47.207, Training loss 7.3249e-01, Validation loss 4.2838e-01, Acc@1  90.67, Acc@5 100.00, learning rate 0.0\n",
      "Best Epoch:20, loss: 0.4283769130706787, Acc@1: 90.66667175292969, Acc@5: 100.0\n"
     ]
    }
   ],
   "source": [
    "import time\n",
    "\n",
    "val_loss_history = []\n",
    "loss_history = []\n",
    "top1_history = []\n",
    "top5_history = []\n",
    "best_loss = 0x7fffffff\n",
    "\n",
    "start = time.time()\n",
    "for i in range(epochs):\n",
    "  for batch, (X, y) in enumerate(train_loader):\n",
    "    X = X.to(device)\n",
    "    y = y.to(device)\n",
    "    data_time.update(time.time() - start)\n",
    "    pred = model(X)\n",
    "    loss = loss_fn(pred, y)\n",
    "\n",
    "    optimizer.zero_grad()\n",
    "    loss.backward()\n",
    "    optimizer.step()\n",
    "    scheduler.step()\n",
    "  \n",
    "  batch_time.update(time.time() - start)\n",
    "  start = time.time()\n",
    "\n",
    "  with torch.no_grad():\n",
    "    for batch, (X, y) in enumerate(val_loader):\n",
    "      X = X.to(device)\n",
    "      y = y.to(device)\n",
    "      pred = model(X)\n",
    "      val_loss = loss_fn(pred, y)\n",
    "      if val_loss.item() < best_loss:\n",
    "        best_loss = val_loss.item()\n",
    "        best_epoch = i\n",
    "        best_model = model\n",
    "      acc1, acc5 = accuracy(pred, y, topk=(1, 5))\n",
    "      loss_history.append(loss.item())\n",
    "      val_loss_history.append(val_loss.item())\n",
    "      top1_history.append(acc1[0])\n",
    "      top5_history.append(acc5[0])\n",
    "      losses.update(loss.item(), X.size(0))\n",
    "      top1.update(acc1[0], X.size(0))\n",
    "      top5.update(acc5[0], X.size(0))\n",
    "      \n",
    "  print(f\"Epoch:{i + 1}: {batch_time}, {losses}, Validation loss {val_loss.item():.4e}, {top1}, {top5}, learning rate {optimizer.state_dict()['param_groups'][0]['lr']}\")\n",
    "  losses.reset()\n",
    "  top1.reset()\n",
    "  top5.reset()\n",
    "\n",
    "print(f\"Best Epoch:{best_epoch + 1}, loss: {best_loss}, Acc@1: {top1_history[best_epoch]}, Acc@5: {top5_history[best_epoch]}\")\n"
   ]
  },
  {
   "cell_type": "markdown",
   "metadata": {},
   "source": [
    "训练结束之后，我们可以将每一个epoch存储的各项指标在图标上绘制出来，观察它们是怎样变化的。如果你使用tensorboard或wandb，这一过程也可以实时进行。"
   ]
  },
  {
   "cell_type": "code",
   "execution_count": 9,
   "metadata": {},
   "outputs": [
    {
     "data": {
      "image/png": "[encoded data removed]",
      "text/plain": [
       "<Figure size 640x480 with 1 Axes>"
      ]
     },
     "metadata": {},
     "output_type": "display_data"
    },
    {
     "data": {
      "image/png": "[encoded data removed]",
      "text/plain": [
       "<Figure size 640x480 with 1 Axes>"
      ]
     },
     "metadata": {},
     "output_type": "display_data"
    },
    {
     "data": {
      "text/plain": [
       "<Figure size 640x480 with 0 Axes>"
      ]
     },
     "metadata": {},
     "output_type": "display_data"
    }
   ],
   "source": [
    "import numpy as np\n",
    "import matplotlib.pyplot as plt\n",
    "from torch import randint\n",
    "%matplotlib inline\n",
    "plt.plot(np.arange(1, epochs+1), loss_history, label=\"loss\")\n",
    "plt.plot(np.arange(1, epochs+1), val_loss_history, label=\"val_loss\")\n",
    "plt.xlabel(\"epochs\")\n",
    "plt.ylabel(\"loss\")\n",
    "plt.legend()\n",
    "plt.show()\n",
    "plt.clf()\n",
    "\n",
    "plt.plot(np.arange(1, epochs+1), [i.item() for i in top1_history])\n",
    "plt.xlabel(\"epochs\")\n",
    "plt.ylabel(\"Acc@1\")\n",
    "plt.show()\n",
    "plt.clf()"
   ]
  },
  {
   "cell_type": "markdown",
   "metadata": {},
   "source": [
    "通过将测试集的DataLoader传给下面的函数，我们可以对模型在测试集上进行测试，测试的过程与训练类似，只是不需要更新梯度。`model.eval()`和`with torch.no_grad():`会告诉模型现在正处于测试的状态，注意模型的输出总是一个代表了类别的整数，因此需要构建`IDX_TO_CLASSES`来建立反向的索引，使得我们能从模型输出的数字得到具体的类别名。"
   ]
  },
  {
   "cell_type": "code",
   "execution_count": 10,
   "metadata": {},
   "outputs": [
    {
     "name": "stderr",
     "output_type": "stream",
     "text": [
      "/Users/nightingalecen/miniconda3/envs/tutor/lib/python3.11/site-packages/torchvision/transforms/functional.py:1603: UserWarning: The default value of the antialias parameter of all the resizing transforms (Resize(), RandomResizedCrop(), etc.) will change from None to True in v0.17, in order to be consistent across the PIL and Tensor backends. To suppress this warning, directly pass antialias=True (recommended, future default), antialias=None (current default, which means False for Tensors and True for PIL), or antialias=False (only works on Tensors - PIL will still use antialiasing). This also applies if you are using the inference transforms from the models weights: update the call to weights.transforms(antialias=True).\n",
      "  warnings.warn(\n"
     ]
    },
    {
     "name": "stdout",
     "output_type": "stream",
     "text": [
      "best model result: {'63': 'Jasminum nudiflorum', '77': 'Diospyros kaki', '76': 'Malus pumila', '62': 'Jasminum nudiflorum', '74': 'Diospyros kaki', '60': 'Jasminum nudiflorum', '48': 'Malus pumila', '49': 'Malus pumila', '61': 'Jasminum nudiflorum', '75': 'Diospyros lotus', '59': 'Jasminum nudiflorum', '71': 'Diospyros lotus', '65': 'Citrullus lanatus', '64': 'Jasminum nudiflorum', '70': 'Ginkgo biloba', '58': 'Jasminum nudiflorum', '8': 'Datura stramonium', '66': 'Citrus reticulata', '72': 'Diospyros kaki', '73': 'Diospyros lotus', '67': 'Citrullus lanatus', '9': 'Datura stramonium', '14': 'Citrus reticulata', '28': 'Diospyros lotus', '29': 'Citrus reticulata', '15': 'Citrus reticulata', '17': 'Citrus reticulata', '16': 'Citrus reticulata', '12': 'Diospyros lotus', '13': 'Citrus reticulata', '39': 'Ananas comosus', '11': 'Jasminum nudiflorum', '10': 'Citrus reticulata', '38': 'Ananas comosus', '21': 'Ginkgo biloba', '35': 'Diospyros kaki', '34': 'Diospyros kaki', '20': 'Ginkgo biloba', '36': 'Diospyros kaki', '22': 'Diospyros lotus', '23': 'Ginkgo biloba', '37': 'Diospyros kaki', '33': 'Diospyros kaki', '27': 'Ginkgo biloba', '26': 'Ginkgo biloba', '32': 'Diospyros kaki', '18': 'Citrus reticulata', '24': 'Diospyros lotus', '30': 'Diospyros kaki', '31': 'Diospyros kaki', '25': 'Ginkgo biloba', '19': 'Ginkgo biloba', '42': 'Ananas comosus', '4': 'Datura stramonium', '56': 'Malus pumila', '81': 'Iris tectorum', '80': 'Citrus reticulata', '5': 'Datura stramonium', '57': 'Jasminum nudiflorum', '43': 'Ananas comosus', '55': 'Malus pumila', '7': 'Datura stramonium', '41': 'Ananas comosus', '69': 'Citrullus lanatus', '82': 'Iris tectorum', '83': 'Datura stramonium', '68': 'Malus pumila', '40': 'Ananas comosus', '54': 'Malus pumila', '6': 'Datura stramonium', '78': 'Diospyros lotus', '2': 'Datura stramonium', '50': 'Diospyros lotus', '44': 'Ananas comosus', '87': 'Iris tectorum', '86': 'Iris tectorum', '45': 'Ananas comosus', '3': 'Datura stramonium', '51': 'Malus pumila', '79': 'Diospyros lotus', '47': 'Ananas comosus', '53': 'Diospyros lotus', '1': 'Datura stramonium', '84': 'Iris tectorum', '85': 'Iris tectorum', '52': 'Ginkgo biloba', '0': 'Datura stramonium', '46': 'Ananas comosus'}\n"
     ]
    }
   ],
   "source": [
    "CLASSES_TO_IDX = train_dataset.class_to_idx\n",
    "IDX_TO_CLASSES = {CLASSES_TO_IDX[i]:i for i in train_dataset.classes}\n",
    "\n",
    "\n",
    "def test(model, test_image, name_prefix):\n",
    "    model.eval()\n",
    "    labels = []\n",
    "    image_numbers = []\n",
    "    with torch.no_grad(): # 在测试时，需要禁用梯度的计算\n",
    "        for _, (images, image_number) in enumerate(test_image):\n",
    "            images = images.to(device)\n",
    "            y = model(images)\n",
    "            batch_labels = torch.argmax(y, dim=1) # 取线性层输出最大值的下标作为我们对应的分类下标\n",
    "            labels.append(batch_labels)\n",
    "            image_numbers.append(image_number)\n",
    "    ans = torch.cat(labels, 0).cpu().numpy()\n",
    "    image_numbers = torch.cat(image_numbers, 0).cpu().numpy()\n",
    "    res = {str(image_numbers[i]): IDX_TO_CLASSES[j] for i, j in enumerate(ans)}\n",
    "    print(f\"{name_prefix} model result:\", res)\n",
    "    return res\n",
    "\n",
    "\n",
    "res = test(best_model, test_loader, \"best\")"
   ]
  },
  {
   "cell_type": "code",
   "execution_count": 11,
   "metadata": {},
   "outputs": [
    {
     "name": "stdout",
     "output_type": "stream",
     "text": [
      "Test Acc@1: 0.7954545454545454\n"
     ]
    }
   ],
   "source": [
    "import json\n",
    "\n",
    "with open(\"review/baseline_resnet18.json\", \"w\") as f:\n",
    "    json.dump(res, f, indent=4)"
   ]
  }
 ],
 "metadata": {
  "kernelspec": {
   "display_name": "Python 3 (ipykernel)",
   "language": "python",
   "name": "python3"
  },
  "language_info": {
   "codemirror_mode": {
    "name": "ipython",
    "version": 3
   },
   "file_extension": ".py",
   "mimetype": "text/x-python",
   "name": "python",
   "nbconvert_exporter": "python",
   "pygments_lexer": "ipython3",
   "version": "3.11.3"
  }
 },
 "nbformat": 4,
 "nbformat_minor": 2
}
